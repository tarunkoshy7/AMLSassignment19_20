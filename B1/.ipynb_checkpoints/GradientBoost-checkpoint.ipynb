{
 "cells": [
  {
   "cell_type": "code",
   "execution_count": 1,
   "metadata": {},
   "outputs": [
    {
     "name": "stderr",
     "output_type": "stream",
     "text": [
      "Using TensorFlow backend.\n"
     ]
    }
   ],
   "source": [
    "import os\n",
    "import numpy as np\n",
    "import matplotlib.pyplot as plt\n",
    "from keras.preprocessing import image\n",
    "from sklearn.model_selection import train_test_split\n",
    "from sklearn.ensemble import GradientBoostingClassifier\n",
    "from sklearn.metrics import classification_report, accuracy_score, log_loss"
   ]
  },
  {
   "cell_type": "code",
   "execution_count": 2,
   "metadata": {},
   "outputs": [],
   "source": [
    "basedir = '../Datasets/cartoon_set'\n",
    "images_dir = os.path.join(basedir,'img')\n",
    "labels_filename = 'labels.csv'\n",
    "\n",
    "image_paths = [os.path.join(images_dir, l) for l in os.listdir(images_dir)]\n",
    "target_size = (32,32)\n",
    "labels_file = open(os.path.join(basedir, labels_filename), 'r')\n",
    "lines = labels_file.readlines()\n",
    "face_labels = {line.split()[3] : int(line.split()[2]) for line in lines[1:]}\n",
    "if os.path.isdir(images_dir):\n",
    "    all_images = []\n",
    "    all_labels = []\n",
    "    for img_path in image_paths:\n",
    "        file_name= img_path.split('..')[1].split('/')[-1]\n",
    "\n",
    "        # load image\n",
    "        img = image.img_to_array(\n",
    "            image.load_img(img_path, color_mode='grayscale',\n",
    "                           target_size=target_size,\n",
    "                           interpolation='bicubic'))\n",
    "        all_images.append(img)\n",
    "        all_labels.append(face_labels[file_name])\n",
    "\n",
    "images = np.array(all_images)\n",
    "face_labels = (np.array(all_labels))\n"
   ]
  },
  {
   "cell_type": "code",
   "execution_count": 3,
   "metadata": {},
   "outputs": [
    {
     "data": {
      "image/png": "[encoded data removed]",
      "text/plain": [
       "<Figure size 432x288 with 1 Axes>"
      ]
     },
     "metadata": {
      "needs_background": "light"
     },
     "output_type": "display_data"
    }
   ],
   "source": [
    "display = images[0].reshape(images[0].shape[0],images[0].shape[1])\n",
    "plt.imshow(display, cmap='gray')\n",
    "plt.show()"
   ]
  },
  {
   "cell_type": "code",
   "execution_count": 4,
   "metadata": {},
   "outputs": [],
   "source": [
    "norm_images=images.reshape(images.shape[0],images.shape[1], images.shape[2])/255"
   ]
  },
  {
   "cell_type": "code",
   "execution_count": 5,
   "metadata": {},
   "outputs": [],
   "source": [
    "X_train, X_test, y_train, y_test = train_test_split(norm_images, face_labels, test_size=0.2, random_state=1)\n",
    "X_train, X_val, y_train, y_val = train_test_split(X_train, y_train, test_size=0.25, random_state=1)\n",
    "\n",
    "X_train = X_train.reshape(X_train.shape[0],X_train.shape[1]*X_train.shape[2])\n",
    "\n",
    "X_val = X_val.reshape(X_val.shape[0],X_val.shape[1]*X_val.shape[2])\n",
    "X_test = X_test.reshape(X_test.shape[0],X_test.shape[1]*X_test.shape[2])"
   ]
  },
  {
   "cell_type": "code",
   "execution_count": 6,
   "metadata": {},
   "outputs": [
    {
     "name": "stdout",
     "output_type": "stream",
     "text": [
      "(6000, 1024)\n",
      "(6000,)\n",
      "(2000, 1024)\n",
      "(2000,)\n",
      "(2000, 1024)\n",
      "(2000,)\n"
     ]
    }
   ],
   "source": [
    "print(X_train.shape)\n",
    "print(y_train.shape)\n",
    "print(X_val.shape)\n",
    "print(y_val.shape)\n",
    "print(X_test.shape)\n",
    "print(y_test.shape)"
   ]
  },
  {
   "cell_type": "code",
   "execution_count": 7,
   "metadata": {},
   "outputs": [],
   "source": [
    "def trainGradientBoost(training_images, training_labels, test_images, test_labels, max_depth=3):\n",
    "    \"\"\"\n",
    "    Train the classifier using the appropriate hyperparameters, fit it to the training labels, \n",
    "    and output the predictions and class probabilities\n",
    "    \"\"\"\n",
    "    classifier = GradientBoostingClassifier(n_estimators=100, learning_rate=0.4, random_state=1, max_depth=max_depth)\n",
    "    classifier.fit(training_images, training_labels)\n",
    "    pred_prob = classifier.predict_proba(test_images)\n",
    "    pred = classifier.predict(test_images)\n",
    "    \n",
    "    return pred, pred_prob"
   ]
  },
  {
   "cell_type": "code",
   "execution_count": 8,
   "metadata": {},
   "outputs": [],
   "source": [
    "def crossValidation(X_train, y_train, X_val, y_val):\n",
    "    \"\"\"\n",
    "    Manually train the classifier using different depth values, plot the graph of Error vs depth to observe\n",
    "    the differences and return the depth with the lowest error\n",
    "    \"\"\"\n",
    "    depth_vec = np.array([1, 3, 5, 7])\n",
    "    \n",
    "    error_train = np.zeros(len(depth_vec))\n",
    "    error_val = np.zeros(len(depth_vec))\n",
    "    \n",
    "    for i in range(len(depth_vec)):\n",
    "        depth = depth_vec[i]\n",
    "        y_train_pred = trainGradientBoost(X_train, y_train, X_train, y_train, depth)[1]\n",
    "        y_val_pred = trainGradientBoost(X_train, y_train, X_val, y_val, depth)[1]\n",
    "\n",
    "        error_train[i] = log_loss(y_train, y_train_pred, labels=[0, 1, 2, 3, 4])\n",
    "        error_val[i] = log_loss(y_val, y_val_pred, labels=[0, 1, 2, 3, 4])\n",
    "\n",
    "    print('Training Error:', error_train)\n",
    "    print('Validation Error:', error_val)\n",
    "\n",
    "    minErrorIndex = np.argmin(error_val)\n",
    "    minError = np.amin(error_val)\n",
    "    print('Min Validation Error Value:', minError)\n",
    "    print('Ideal Depth:', depth_vec[minErrorIndex])\n",
    "    \n",
    "    plt.plot(depth_vec, error_train, label='Train')\n",
    "    plt.plot(depth_vec, error_val, label='Cross Validation')\n",
    "    plt.legend()\n",
    "    plt.xlabel('Max Depth')\n",
    "    plt.ylabel('Error')\n",
    "    plt.title('Validation Curve')\n",
    "    plt.show()    \n",
    "        \n",
    "    return depth_vec[minErrorIndex], minError"
   ]
  },
  {
   "cell_type": "code",
   "execution_count": 9,
   "metadata": {},
   "outputs": [],
   "source": [
    "def learningCurve(X_train, y_train, X_val, y_val, max_depth):\n",
    "    \"\"\"\n",
    "    Plot the learning curve of the training and validation set errors over number of training examples\n",
    "    \"\"\"\n",
    "        m = X_train.shape[0]\n",
    "        error_train = np.zeros(int(m/500))\n",
    "        error_val = np.zeros(int(m/500))\n",
    "        \n",
    "        for i in range(500, m+1, 500):\n",
    "            y_train_pred = trainGradientBoost(X_train[0:i], y_train[0:i], X_train[0:i], y_train[0:i], max_depth)[1]\n",
    "            y_val_pred = trainGradientBoost(X_train[0:i], y_train[0:i], X_val, y_val, max_depth)[1]\n",
    "            \n",
    "            error_train[int((i-500)/500)] = log_loss(y_train[0:i], y_train_pred, labels=[0, 1, 2, 3, 4])\n",
    "            error_val[int((i-500)/500)] = log_loss(y_val, y_val_pred, labels=[0, 1, 2, 3, 4])\n",
    "            \n",
    "        plt.plot(np.arange(500, m+1, 500), error_train, label='Train')\n",
    "        plt.plot(np.arange(500, m+1, 500), error_val, label='Cross Validation')\n",
    "        plt.legend()\n",
    "        plt.xlabel('Number of Training Examples')\n",
    "        plt.ylabel('Error')\n",
    "        plt.title('Learning Curve')\n",
    "        plt.show()\n",
    "        \n",
    "        return None"
   ]
  },
  {
   "cell_type": "code",
   "execution_count": 10,
   "metadata": {},
   "outputs": [
    {
     "name": "stdout",
     "output_type": "stream",
     "text": [
      "Training Error: [2.99479961e-01 3.82146969e-03 2.32153180e-04 2.54310844e-04]\n",
      "Validation Error: [0.34906349 0.04133973 0.03602621 0.05417836]\n",
      "Min Validation Error Value: 0.03602621328204495\n",
      "Ideal Depth: 5\n"
     ]
    },
    {
     "data": {
      "image/png": "[encoded data removed]",
      "text/plain": [
       "<Figure size 432x288 with 1 Axes>"
      ]
     },
     "metadata": {
      "needs_background": "light"
     },
     "output_type": "display_data"
    }
   ],
   "source": [
    "idealDepth = crossValidation(X_train, y_train, X_val, y_val)[0]"
   ]
  },
  {
   "cell_type": "code",
   "execution_count": 11,
   "metadata": {},
   "outputs": [
    {
     "data": {
      "image/png": "[encoded data removed]",
      "text/plain": [
       "<Figure size 432x288 with 1 Axes>"
      ]
     },
     "metadata": {
      "needs_background": "light"
     },
     "output_type": "display_data"
    }
   ],
   "source": [
    "learningCurve(X_train, y_train, X_val, y_val, idealDepth)"
   ]
  },
  {
   "cell_type": "code",
   "execution_count": 12,
   "metadata": {},
   "outputs": [
    {
     "name": "stdout",
     "output_type": "stream",
     "text": [
      "Accuracy: 1.0\n",
      "              precision    recall  f1-score   support\n",
      "\n",
      "           0       1.00      1.00      1.00      1225\n",
      "           1       1.00      1.00      1.00      1201\n",
      "           2       1.00      1.00      1.00      1173\n",
      "           3       1.00      1.00      1.00      1182\n",
      "           4       1.00      1.00      1.00      1219\n",
      "\n",
      "    accuracy                           1.00      6000\n",
      "   macro avg       1.00      1.00      1.00      6000\n",
      "weighted avg       1.00      1.00      1.00      6000\n",
      "\n"
     ]
    }
   ],
   "source": [
    "pred_train=trainGradientBoost(X_train, y_train, X_train, y_train, idealDepth)[0]\n",
    "print('Accuracy:', accuracy_score(y_train, pred_train))\n",
    "print(classification_report(y_train, pred_train))"
   ]
  },
  {
   "cell_type": "code",
   "execution_count": 13,
   "metadata": {},
   "outputs": [
    {
     "name": "stdout",
     "output_type": "stream",
     "text": [
      "Accuracy: 0.9895\n",
      "              precision    recall  f1-score   support\n",
      "\n",
      "           0       0.98      0.99      0.99       367\n",
      "           1       0.99      0.98      0.99       418\n",
      "           2       1.00      0.99      1.00       396\n",
      "           3       0.99      0.99      0.99       401\n",
      "           4       0.99      0.99      0.99       418\n",
      "\n",
      "    accuracy                           0.99      2000\n",
      "   macro avg       0.99      0.99      0.99      2000\n",
      "weighted avg       0.99      0.99      0.99      2000\n",
      "\n"
     ]
    }
   ],
   "source": [
    "pred_val=trainGradientBoost(X_train, y_train, X_val, y_val, idealDepth)[0]\n",
    "print('Accuracy:', accuracy_score(y_val, pred_val))\n",
    "print(classification_report(y_val, pred_val))"
   ]
  },
  {
   "cell_type": "code",
   "execution_count": 14,
   "metadata": {},
   "outputs": [
    {
     "name": "stdout",
     "output_type": "stream",
     "text": [
      "CPU times: user 2min 34s, sys: 518 ms, total: 2min 34s\n",
      "Wall time: 2min 35s\n",
      "Accuracy: 0.9895\n",
      "              precision    recall  f1-score   support\n",
      "\n",
      "           0       0.98      0.99      0.99       408\n",
      "           1       0.98      0.98      0.98       381\n",
      "           2       1.00      1.00      1.00       431\n",
      "           3       0.99      1.00      0.99       417\n",
      "           4       1.00      0.99      0.99       363\n",
      "\n",
      "    accuracy                           0.99      2000\n",
      "   macro avg       0.99      0.99      0.99      2000\n",
      "weighted avg       0.99      0.99      0.99      2000\n",
      "\n"
     ]
    }
   ],
   "source": [
    "%time pred_test=trainGradientBoost(X_train, y_train, X_test, y_test, idealDepth)[0]\n",
    "print('Accuracy:', accuracy_score(y_test, pred_test))\n",
    "print(classification_report(y_test, pred_test))"
   ]
  },
  {
   "cell_type": "code",
   "execution_count": 15,
   "metadata": {},
   "outputs": [],
   "source": [
    "basedir = '../Datasets/cartoon_set_test'\n",
    "images_dir = os.path.join(basedir,'img')\n",
    "labels_filename = 'labels.csv'\n",
    "\n",
    "image_paths = [os.path.join(images_dir, l) for l in os.listdir(images_dir)]\n",
    "target_size = (32,32)\n",
    "labels_file = open(os.path.join(basedir, labels_filename), 'r')\n",
    "lines = labels_file.readlines()\n",
    "face_labels = {line.split()[3] : int(line.split()[2]) for line in lines[1:]}\n",
    "if os.path.isdir(images_dir):\n",
    "    all_images = []\n",
    "    all_labels = []\n",
    "    for img_path in image_paths:\n",
    "        file_name= img_path.split('..')[1].split('/')[-1]\n",
    "\n",
    "        # load image\n",
    "        img = image.img_to_array(\n",
    "            image.load_img(img_path, color_mode='grayscale',\n",
    "                           target_size=target_size,\n",
    "                           interpolation='bicubic'))\n",
    "        all_images.append(img)\n",
    "        all_labels.append(face_labels[file_name])\n",
    "\n",
    "images = np.array(all_images)\n",
    "face_labels = (np.array(all_labels))"
   ]
  },
  {
   "cell_type": "code",
   "execution_count": 16,
   "metadata": {},
   "outputs": [],
   "source": [
    "norm_images=images.reshape(images.shape[0],images.shape[1]*images.shape[2])/255"
   ]
  },
  {
   "cell_type": "code",
   "execution_count": 17,
   "metadata": {},
   "outputs": [],
   "source": [
    "X_test_new=norm_images\n",
    "y_test_new=face_labels"
   ]
  },
  {
   "cell_type": "code",
   "execution_count": 18,
   "metadata": {},
   "outputs": [
    {
     "name": "stdout",
     "output_type": "stream",
     "text": [
      "(2500, 1024)\n",
      "(2500,)\n"
     ]
    }
   ],
   "source": [
    "print(X_test_new.shape)\n",
    "print(y_test_new.shape)"
   ]
  },
  {
   "cell_type": "code",
   "execution_count": 19,
   "metadata": {
    "scrolled": true
   },
   "outputs": [
    {
     "name": "stdout",
     "output_type": "stream",
     "text": [
      "CPU times: user 2min 43s, sys: 1.02 s, total: 2min 44s\n",
      "Wall time: 2min 46s\n",
      "Accuracy: 0.9864\n",
      "              precision    recall  f1-score   support\n",
      "\n",
      "           0       0.98      0.97      0.98       500\n",
      "           1       0.98      0.98      0.98       500\n",
      "           2       1.00      1.00      1.00       500\n",
      "           3       0.99      0.99      0.99       500\n",
      "           4       0.99      0.99      0.99       500\n",
      "\n",
      "    accuracy                           0.99      2500\n",
      "   macro avg       0.99      0.99      0.99      2500\n",
      "weighted avg       0.99      0.99      0.99      2500\n",
      "\n"
     ]
    }
   ],
   "source": [
    "%time pred_test_new=trainGradientBoost(X_train, y_train, X_test_new, y_test_new, idealDepth)[0]\n",
    "print('Accuracy:', accuracy_score(y_test_new, pred_test_new))\n",
    "print(classification_report(y_test_new, pred_test_new))"
   ]
  },
  {
   "cell_type": "code",
   "execution_count": null,
   "metadata": {},
   "outputs": [],
   "source": []
  }
 ],
 "metadata": {
  "kernelspec": {
   "display_name": "Python 3",
   "language": "python",
   "name": "python3"
  },
  "language_info": {
   "codemirror_mode": {
    "name": "ipython",
    "version": 3
   },
   "file_extension": ".py",
   "mimetype": "text/x-python",
   "name": "python",
   "nbconvert_exporter": "python",
   "pygments_lexer": "ipython3",
   "version": "3.7.4"
  }
 },
 "nbformat": 4,
 "nbformat_minor": 2
}
